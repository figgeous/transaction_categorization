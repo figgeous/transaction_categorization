{
 "cells": [
  {
   "cell_type": "code",
   "execution_count": 1,
   "id": "9daa773b-9103-4633-84b9-f6d02e99f03e",
   "metadata": {},
   "outputs": [],
   "source": [
    "import nltk\n",
    "import pandas as pd\n",
    "from sklearn.model_selection import train_test_split\n",
    "from sklearn.feature_extraction.text import TfidfVectorizer\n",
    "from sklearn.naive_bayes import MultinomialNB\n",
    "from sklearn.pipeline import make_pipeline\n",
    "from sklearn.metrics import classification_report, accuracy_score"
   ]
  },
  {
   "cell_type": "code",
   "execution_count": 15,
   "id": "2af79684-1c96-498c-9d18-86d21cb64e68",
   "metadata": {},
   "outputs": [],
   "source": [
    "df = pd.read_csv(\"sample_data.csv\", index_col=0)"
   ]
  },
  {
   "cell_type": "code",
   "execution_count": 10,
   "id": "7a4b632b-87e0-4103-88d6-3db47be139f6",
   "metadata": {},
   "outputs": [
    {
     "name": "stderr",
     "output_type": "stream",
     "text": [
      "[nltk_data] Downloading package punkt to /home/figgeous/nltk_data...\n",
      "[nltk_data]   Package punkt is already up-to-date!\n",
      "[nltk_data] Downloading package stopwords to\n",
      "[nltk_data]     /home/figgeous/nltk_data...\n",
      "[nltk_data]   Package stopwords is already up-to-date!\n",
      "[nltk_data] Downloading package wordnet to /home/figgeous/nltk_data...\n",
      "[nltk_data]   Package wordnet is already up-to-date!\n"
     ]
    }
   ],
   "source": [
    "from nltk.corpus import stopwords\n",
    "from nltk.stem import WordNetLemmatizer\n",
    "from nltk.tokenize import word_tokenize\n",
    "\n",
    "# Downloading the Punkt Tokenizer Models\n",
    "# Punkt is a pre-trained unsupervised machine learning model for tokenizing text.\n",
    "# It divides a text into a list of sentence tokens and is trained to work with multiple languages.\n",
    "# This is especially useful for splitting text into sentences and further into words, and it helps in text preprocessing.\n",
    "nltk.download('punkt')\n",
    "\n",
    "# Downloading the Stopwords Corpus\n",
    "# Stopwords are words that do not contain significant information and are often removed during text preprocessing.\n",
    "# They are words like \"is\", \"at\", \"which\", and \"on\", which do not carry meaningful context when analyzing text.\n",
    "# NLTK provides a list of such stopwords in various languages, which can be utilized to filter them out from the text data.\n",
    "nltk.download('stopwords')\n",
    "\n",
    "# Downloading WordNet Lexical Database\n",
    "# WordNet is a lexical database for the English language, which groups words into sets of synonyms and describes semantic relationships between them.\n",
    "# In NLP, it is used for various tasks like determining word meanings, finding synonyms/antonyms, and lemmatizing words.\n",
    "# Lemmatization is a process of reducing a word to its base/root form, and WordNet provides the necessary lexical knowledge to do this efficiently.\n",
    "nltk.download('wordnet')\n",
    "\n",
    "def preprocess_text(text: str) -> str:\n",
    "    tokens = word_tokenize(text)\n",
    "    tokens = [word for word in tokens if word not in stopwords.words('english')]\n",
    "    lemmatizer = WordNetLemmatizer()\n",
    "    tokens = [lemmatizer.lemmatize(token) for token in tokens]\n",
    "    return ' '.join(tokens)\n",
    "\n",
    "df['Processed Transaction'] = df['Transaction Description'].apply(preprocess_text)"
   ]
  },
  {
   "cell_type": "code",
   "execution_count": 9,
   "id": "87e14050-f88b-4cad-a81f-c7dfc7f40c62",
   "metadata": {},
   "outputs": [
    {
     "name": "stdout",
     "output_type": "stream",
     "text": [
      "Accuracy:  0.93\n",
      "Classification Report:\n",
      "                precision    recall  f1-score   support\n",
      "\n",
      "Entertainment       1.00      0.75      0.86         4\n",
      "    Groceries       1.00      1.00      1.00         6\n",
      "    Utilities       0.83      1.00      0.91         5\n",
      "\n",
      "     accuracy                           0.93        15\n",
      "    macro avg       0.94      0.92      0.92        15\n",
      " weighted avg       0.94      0.93      0.93        15\n",
      "\n",
      "Example of usage:\n",
      "buying movie ticket => Entertainment\n",
      "paying credit card bill => Utilities\n"
     ]
    }
   ],
   "source": [
    "# Splitting the data into training and testing sets. Currently training on 80% of the data, testing on the rest\n",
    "X_train, X_test, y_train, y_test = train_test_split(\n",
    "    df['Processed Transaction'], \n",
    "    df['Category'], \n",
    "    test_size=0.2, \n",
    "    random_state=42\n",
    ")\n",
    "\n",
    "model = make_pipeline(\n",
    "    TfidfVectorizer(),\n",
    "    MultinomialNB()\n",
    ")\n",
    "\n",
    "model.fit(X_train, y_train)\n",
    "\n",
    "predictions = model.predict(X_test)\n",
    "print(\"Accuracy: \", round(accuracy_score(y_test, predictions),2))\n",
    "print(\"Classification Report:\\n\", classification_report(y_test, predictions))\n",
    "\n",
    "new_transactions = ['buying movie ticket', 'paying credit card bill']\n",
    "processed_transactions = [preprocess_text(text) for text in new_transactions]\n",
    "predicted_categories = model.predict(processed_transactions)\n",
    "\n",
    "print(\"Example of usage:\")\n",
    "for trans, cat in zip(new_transactions, predicted_categories):\n",
    "    print(f\"{trans} => {cat}\")"
   ]
  }
 ],
 "metadata": {
  "kernelspec": {
   "display_name": "Python 3 (ipykernel)",
   "language": "python",
   "name": "python3"
  },
  "language_info": {
   "codemirror_mode": {
    "name": "ipython",
    "version": 3
   },
   "file_extension": ".py",
   "mimetype": "text/x-python",
   "name": "python",
   "nbconvert_exporter": "python",
   "pygments_lexer": "ipython3",
   "version": "3.10.12"
  }
 },
 "nbformat": 4,
 "nbformat_minor": 5
}
